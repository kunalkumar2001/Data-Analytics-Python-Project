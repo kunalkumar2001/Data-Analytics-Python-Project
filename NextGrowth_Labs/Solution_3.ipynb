{
 "cells": [
  {
   "cell_type": "markdown",
   "id": "b55b3f3a",
   "metadata": {
    "slideshow": {
     "slide_type": "slide"
    }
   },
   "source": [
    "#### 1. Reward the top performer (student) of each school based on cumulative marks scored in last three years for all the subjects\n"
   ]
  },
  {
   "cell_type": "code",
   "execution_count": 4,
   "id": "2468f2f4",
   "metadata": {
    "slideshow": {
     "slide_type": "slide"
    }
   },
   "outputs": [
    {
     "name": "stdout",
     "output_type": "stream",
     "text": [
      "          School  Student Name  Total_Marks\n",
      "19  Vidya Mandir  Nisha Saxena         2320\n"
     ]
    }
   ],
   "source": [
    "import pandas as pd\n",
    "\n",
    "# Load the data\n",
    "file_2019 = \"Bangalore Schools 2019.xlsx\"\n",
    "file_2020 = \"Bangalore Schools 2020.xlsx\"\n",
    "file_2021 = \"Bangalore Schools 2021.xlsx\"\n",
    "\n",
    "df_2019 = pd.read_excel(file_2019)\n",
    "df_2020 = pd.read_excel(file_2020)\n",
    "df_2021 = pd.read_excel(file_2021)\n",
    "\n",
    "# Add a Year column to each dataset\n",
    "df_2019['Year'] = 2019\n",
    "df_2020['Year'] = 2020\n",
    "df_2021['Year'] = 2021\n",
    "\n",
    "# Combine all datasets\n",
    "combined_df = pd.concat([df_2019, df_2020, df_2021], ignore_index=True)\n",
    "\n",
    "# List of subject columns (excluding non-score columns)\n",
    "subject_columns = ['Hindi', 'English', 'Mathematics', 'Physics', 'Chemistry',\n",
    "                   'Biology', 'History', 'Geography', 'Civics', 'Computer Science', 'Physical Education']\n",
    "\n",
    "# Calculate total marks per student\n",
    "combined_df['Total_Marks'] = combined_df[subject_columns].sum(axis=1)\n",
    "\n",
    "# Calculate cumulative marks across 3 years\n",
    "cumulative_marks = combined_df.groupby(['School', 'Student Roll', 'Student Name'])['Total_Marks'].sum().reset_index()\n",
    "\n",
    "# Identify top performer in each school\n",
    "top_performers = cumulative_marks.loc[cumulative_marks.groupby('School')['Total_Marks'].idxmax()]\n",
    "\n",
    "# Display results\n",
    "print(top_performers[['School', 'Student Name', 'Total_Marks']])\n"
   ]
  },
  {
   "cell_type": "markdown",
   "id": "eb03dc00",
   "metadata": {
    "slideshow": {
     "slide_type": "slide"
    }
   },
   "source": [
    "#### 2.Rank each student within their own school based on their total marks scored in the year 2020 and compare the marks of Rank 10 for each school by arranging them in descending order"
   ]
  },
  {
   "cell_type": "code",
   "execution_count": 31,
   "id": "128b38ff",
   "metadata": {
    "slideshow": {
     "slide_type": "slide"
    }
   },
   "outputs": [
    {
     "data": {
      "text/html": [
       "<div>\n",
       "<style scoped>\n",
       "    .dataframe tbody tr th:only-of-type {\n",
       "        vertical-align: middle;\n",
       "    }\n",
       "\n",
       "    .dataframe tbody tr th {\n",
       "        vertical-align: top;\n",
       "    }\n",
       "\n",
       "    .dataframe thead th {\n",
       "        text-align: right;\n",
       "    }\n",
       "</style>\n",
       "<table border=\"1\" class=\"dataframe\">\n",
       "  <thead>\n",
       "    <tr style=\"text-align: right;\">\n",
       "      <th></th>\n",
       "      <th>School</th>\n",
       "      <th>Student Name</th>\n",
       "      <th>Total_Marks</th>\n",
       "      <th>Rank</th>\n",
       "    </tr>\n",
       "  </thead>\n",
       "  <tbody>\n",
       "    <tr>\n",
       "      <th>11</th>\n",
       "      <td>Vidya Mandir</td>\n",
       "      <td>Ganesh Sekhar</td>\n",
       "      <td>705</td>\n",
       "      <td>10.0</td>\n",
       "    </tr>\n",
       "    <tr>\n",
       "      <th>76</th>\n",
       "      <td>Birla HS</td>\n",
       "      <td>Derek Pinto</td>\n",
       "      <td>673</td>\n",
       "      <td>10.0</td>\n",
       "    </tr>\n",
       "    <tr>\n",
       "      <th>87</th>\n",
       "      <td>International</td>\n",
       "      <td>Atin Choudhari</td>\n",
       "      <td>647</td>\n",
       "      <td>10.0</td>\n",
       "    </tr>\n",
       "    <tr>\n",
       "      <th>28</th>\n",
       "      <td>St. Joseph</td>\n",
       "      <td>Rituraj Khanna</td>\n",
       "      <td>626</td>\n",
       "      <td>10.0</td>\n",
       "    </tr>\n",
       "    <tr>\n",
       "      <th>53</th>\n",
       "      <td>DPS</td>\n",
       "      <td>Michel Dsuza</td>\n",
       "      <td>614</td>\n",
       "      <td>10.0</td>\n",
       "    </tr>\n",
       "  </tbody>\n",
       "</table>\n",
       "</div>"
      ],
      "text/plain": [
       "           School    Student Name  Total_Marks  Rank\n",
       "11   Vidya Mandir   Ganesh Sekhar          705  10.0\n",
       "76       Birla HS     Derek Pinto          673  10.0\n",
       "87  International  Atin Choudhari          647  10.0\n",
       "28     St. Joseph  Rituraj Khanna          626  10.0\n",
       "53            DPS    Michel Dsuza          614  10.0"
      ]
     },
     "execution_count": 31,
     "metadata": {},
     "output_type": "execute_result"
    }
   ],
   "source": [
    "# List of subject columns\n",
    "subject_columns = ['Hindi', 'English', 'Mathematics', 'Physics', 'Chemistry',\n",
    "                   'Biology', 'History', 'Geography', 'Civics', 'Computer Science', 'Physical Education']\n",
    "\n",
    "# Calculate total marks per student\n",
    "df_2020[\"Total_Marks\"] = df_2020[subject_columns].sum(axis=1)\n",
    "\n",
    "# Rank students within each school based on total marks (higher marks = better rank)\n",
    "df_2020[\"Rank\"] = df_2020.groupby(\"School\")[\"Total_Marks\"].rank(method=\"dense\", ascending=False)\n",
    "\n",
    "# Filter to get only Rank 10 students from each school\n",
    "rank_10_students = df_2020[df_2020[\"Rank\"] == 10]\n",
    "\n",
    "# Sort schools by Rank 10 student's marks in descending order\n",
    "rank_10_sorted = rank_10_students.sort_values(by=\"Total_Marks\", ascending=False)\n",
    "\n",
    "# Select relevant columns for output\n",
    "rank_10_sorted = rank_10_sorted[[\"School\", \"Student Name\", \"Total_Marks\", \"Rank\"]]\n",
    "\n",
    "# Display the sorted result\n",
    "rank_10_sorted\n"
   ]
  },
  {
   "cell_type": "markdown",
   "id": "324a35ac",
   "metadata": {
    "slideshow": {
     "slide_type": "slide"
    }
   },
   "source": [
    "#### 3.Find out students with the highest improvement for each subject from 2019-21 combining all the schools together"
   ]
  },
  {
   "cell_type": "code",
   "execution_count": 24,
   "id": "ae672d3f",
   "metadata": {
    "slideshow": {
     "slide_type": "slide"
    }
   },
   "outputs": [
    {
     "name": "stdout",
     "output_type": "stream",
     "text": [
      "               Subject          Student Name        School  Improvement\n",
      "0                Hindi        Sonal Tripathi  Vidya Mandir           71\n",
      "1              English          Besent Kumar           DPS           59\n",
      "2          Mathematics       Manyathi Shetty           DPS           67\n",
      "3              Physics         Praddep Meena  Vidya Mandir           63\n",
      "4            Chemistry      Manshukh Bhayani           DPS           65\n",
      "5              Biology          Nitin Deewan      Birla HS           54\n",
      "6              History          Rahul Bansal    St. Joseph           51\n",
      "7            Geography       Subhajeet Dutta  Vidya Mandir           61\n",
      "8               Civics  Sanjana Venkatramana  Vidya Mandir           65\n",
      "9     Computer Science          Rashmi Desai  Vidya Mandir           82\n",
      "10  Physical Education        Anamika Kumari  Vidya Mandir           58\n"
     ]
    }
   ],
   "source": [
    "import pandas as pd\n",
    "\n",
    "# File paths for 2019 and 2021 data\n",
    "file_2019 = \"Bangalore Schools 2019.xlsx\"\n",
    "file_2021 = \"Bangalore Schools 2021.xlsx\"\n",
    "\n",
    "# Function to load data from all sheets and add school column\n",
    "def load_school_data(file_path):\n",
    "    xls = pd.ExcelFile(file_path)\n",
    "    sheet_names = xls.sheet_names  # List of school names\n",
    "    df_list = []\n",
    "    for sheet in sheet_names:\n",
    "        temp_df = pd.read_excel(xls, sheet_name=sheet)\n",
    "        temp_df[\"School\"] = sheet  # Assign school name from sheet name\n",
    "        df_list.append(temp_df)\n",
    "    return pd.concat(df_list, ignore_index=True)\n",
    "\n",
    "# Load datasets for 2019 and 2021\n",
    "df_2019 = load_school_data(file_2019)\n",
    "df_2021 = load_school_data(file_2021)\n",
    "\n",
    "# List of subjects\n",
    "subjects = ['Hindi', 'English', 'Mathematics', 'Physics', 'Chemistry',\n",
    "            'Biology', 'History', 'Geography', 'Civics', 'Computer Science', 'Physical Education']\n",
    "\n",
    "# Merge 2019 and 2021 datasets on Student Name and School\n",
    "df_combined = df_2019.merge(df_2021, on=[\"Student Name\", \"School\"], suffixes=(\"_2019\", \"_2021\"))\n",
    "\n",
    "# Calculate improvement in each subject\n",
    "for subject in subjects:\n",
    "    df_combined[f\"{subject}_Improvement\"] = df_combined[f\"{subject}_2021\"] - df_combined[f\"{subject}_2019\"]\n",
    "\n",
    "# Find the top improving student for each subject\n",
    "top_improvers = []\n",
    "for subject in subjects:\n",
    "    top_student = df_combined.loc[df_combined[f\"{subject}_Improvement\"].idxmax(), [\"Student Name\", \"School\", f\"{subject}_Improvement\"]]\n",
    "    top_improvers.append([subject, top_student[\"Student Name\"], top_student[\"School\"], top_student[f\"{subject}_Improvement\"]])\n",
    "\n",
    "# Convert results to DataFrame\n",
    "top_improvement_df = pd.DataFrame(top_improvers, columns=[\"Subject\", \"Student Name\", \"School\", \"Improvement\"])\n",
    "\n",
    "# Display the result\n",
    "print(top_improvement_df)\n"
   ]
  },
  {
   "cell_type": "markdown",
   "id": "1c85539f",
   "metadata": {
    "slideshow": {
     "slide_type": "slide"
    }
   },
   "source": [
    "#### 4.Identify best school for Arts, Science and Commerce streams based on marks scored by students in respective subjects for those streams in last three years"
   ]
  },
  {
   "cell_type": "code",
   "execution_count": 25,
   "id": "e7d0ce30",
   "metadata": {
    "slideshow": {
     "slide_type": "slide"
    }
   },
   "outputs": [
    {
     "name": "stdout",
     "output_type": "stream",
     "text": [
      "Best School for Arts: Birla HS\n",
      "Best School for Science: International\n",
      "Best School for Commerce: Vidya Mandir\n"
     ]
    }
   ],
   "source": [
    "import pandas as pd\n",
    "\n",
    "# File paths for 2019, 2020, and 2021 data\n",
    "file_2019 = \"Bangalore Schools 2019.xlsx\"\n",
    "file_2020 = \"Bangalore Schools 2020.xlsx\"\n",
    "file_2021 = \"Bangalore Schools 2021.xlsx\"\n",
    "\n",
    "# Function to load data from all sheets and add school column\n",
    "def load_school_data(file_path):\n",
    "    xls = pd.ExcelFile(file_path)\n",
    "    sheet_names = xls.sheet_names  # List of school names\n",
    "    df_list = []\n",
    "    for sheet in sheet_names:\n",
    "        temp_df = pd.read_excel(xls, sheet_name=sheet)\n",
    "        temp_df[\"School\"] = sheet  # Assign school name from sheet name\n",
    "        df_list.append(temp_df)\n",
    "    return pd.concat(df_list, ignore_index=True)\n",
    "\n",
    "# Load datasets for all years\n",
    "df_2019 = load_school_data(file_2019)\n",
    "df_2020 = load_school_data(file_2020)\n",
    "df_2021 = load_school_data(file_2021)\n",
    "\n",
    "# List of subjects for each stream\n",
    "arts_subjects = ['Hindi', 'English', 'History', 'Geography', 'Civics']\n",
    "science_subjects = ['Mathematics', 'Physics', 'Chemistry', 'Biology', 'Computer Science']\n",
    "commerce_subjects = ['Hindi', 'English', 'Mathematics', 'Computer Science', 'Physical Education']\n",
    "\n",
    "# Combine datasets for three years\n",
    "df_combined = pd.concat([df_2019, df_2020, df_2021], ignore_index=True)\n",
    "\n",
    "# Function to calculate best school for a given stream\n",
    "def best_school_for_stream(subjects):\n",
    "    school_avg_marks = df_combined.groupby(\"School\")[subjects].mean().sum(axis=1)\n",
    "    return school_avg_marks.idxmax()\n",
    "\n",
    "# Identify best schools for each stream\n",
    "best_school_arts = best_school_for_stream(arts_subjects)\n",
    "best_school_science = best_school_for_stream(science_subjects)\n",
    "best_school_commerce = best_school_for_stream(commerce_subjects)\n",
    "\n",
    "# Display results\n",
    "print(\"Best School for Arts:\", best_school_arts)\n",
    "print(\"Best School for Science:\", best_school_science)\n",
    "print(\"Best School for Commerce:\", best_school_commerce)\n"
   ]
  },
  {
   "cell_type": "markdown",
   "id": "74857dfd",
   "metadata": {
    "slideshow": {
     "slide_type": "slide"
    }
   },
   "source": [
    "#### 5. If the marks obtained for each subject can be categorised under 5 sections like below:\n",
    "    \n",
    "          <=20 - Very Poor\n",
    "    \n",
    "    >20 - <=40 - Poor\n",
    "    \n",
    "    >40 - <=60 - Average\n",
    "    \n",
    "    >60 - <=80 - Good\n",
    "    \n",
    "    >80 - <=100 - Very Good\n",
    "    \n",
    "\n",
    "Then calculate for each school how many students were in each category based on the avg. marks obtained each year"
   ]
  },
  {
   "cell_type": "code",
   "execution_count": 26,
   "id": "fbe2f96c",
   "metadata": {
    "slideshow": {
     "slide_type": "slide"
    }
   },
   "outputs": [
    {
     "name": "stdout",
     "output_type": "stream",
     "text": [
      "Category       Average  Good\n",
      "School                      \n",
      "Birla HS            20    40\n",
      "DPS                 41    19\n",
      "International       25    35\n",
      "St. Joseph          43    17\n",
      "Vidya Mandir        22    38\n"
     ]
    }
   ],
   "source": [
    "import pandas as pd\n",
    "\n",
    "# File paths for 2019, 2020, and 2021 data\n",
    "file_2019 = \"Bangalore Schools 2019.xlsx\"\n",
    "file_2020 = \"Bangalore Schools 2020.xlsx\"\n",
    "file_2021 = \"Bangalore Schools 2021.xlsx\"\n",
    "\n",
    "# Function to load data from all sheets and add school column\n",
    "def load_school_data(file_path):\n",
    "    xls = pd.ExcelFile(file_path)\n",
    "    sheet_names = xls.sheet_names  # List of school names\n",
    "    df_list = []\n",
    "    for sheet in sheet_names:\n",
    "        temp_df = pd.read_excel(xls, sheet_name=sheet)\n",
    "        temp_df[\"School\"] = sheet  # Assign school name from sheet name\n",
    "        df_list.append(temp_df)\n",
    "    return pd.concat(df_list, ignore_index=True)\n",
    "\n",
    "# Load datasets for all years\n",
    "df_2019 = load_school_data(file_2019)\n",
    "df_2020 = load_school_data(file_2020)\n",
    "df_2021 = load_school_data(file_2021)\n",
    "\n",
    "# List of subjects for each stream\n",
    "subjects = ['Hindi', 'English', 'Mathematics', 'Physics', 'Chemistry', 'Biology', 'History', 'Geography', 'Civics', 'Computer Science', 'Physical Education']\n",
    "\n",
    "# Combine datasets for three years\n",
    "df_combined = pd.concat([df_2019, df_2020, df_2021], ignore_index=True)\n",
    "\n",
    "# Function to categorize marks\n",
    "def categorize_marks(marks):\n",
    "    if marks <= 20:\n",
    "        return \"Very Poor\"\n",
    "    elif marks <= 40:\n",
    "        return \"Poor\"\n",
    "    elif marks <= 60:\n",
    "        return \"Average\"\n",
    "    elif marks <= 80:\n",
    "        return \"Good\"\n",
    "    else:\n",
    "        return \"Very Good\"\n",
    "\n",
    "# Calculate average marks per student per subject\n",
    "df_combined[\"Average_Marks\"] = df_combined[subjects].mean(axis=1)\n",
    "\n",
    "# Categorize students based on average marks\n",
    "df_combined[\"Category\"] = df_combined[\"Average_Marks\"].apply(categorize_marks)\n",
    "\n",
    "# Count students in each category per school\n",
    "category_counts = df_combined.groupby([\"School\", \"Category\"]).size().unstack(fill_value=0)\n",
    "\n",
    "# Display results\n",
    "print(category_counts)\n"
   ]
  },
  {
   "cell_type": "markdown",
   "id": "f2e14fef",
   "metadata": {
    "slideshow": {
     "slide_type": "slide"
    }
   },
   "source": [
    "#### 6.Which is the best school for each year 2019, 2020 and 2021 based on highest no. of students in Good and Very Good category"
   ]
  },
  {
   "cell_type": "code",
   "execution_count": 27,
   "id": "805a70c4",
   "metadata": {
    "slideshow": {
     "slide_type": "slide"
    }
   },
   "outputs": [
    {
     "name": "stdout",
     "output_type": "stream",
     "text": [
      "Best Schools Per Year:\n",
      "2019: Birla HS\n",
      "2020: Birla HS\n",
      "2021: Vidya Mandir\n"
     ]
    }
   ],
   "source": [
    "import pandas as pd\n",
    "\n",
    "# File paths for 2019, 2020, and 2021 data\n",
    "file_2019 = \"Bangalore Schools 2019.xlsx\"\n",
    "file_2020 = \"Bangalore Schools 2020.xlsx\"\n",
    "file_2021 = \"Bangalore Schools 2021.xlsx\"\n",
    "\n",
    "# Function to load data from all sheets and add school column\n",
    "def load_school_data(file_path):\n",
    "    xls = pd.ExcelFile(file_path)\n",
    "    sheet_names = xls.sheet_names  # List of school names\n",
    "    df_list = []\n",
    "    for sheet in sheet_names:\n",
    "        temp_df = pd.read_excel(xls, sheet_name=sheet)\n",
    "        temp_df[\"School\"] = sheet  # Assign school name from sheet name\n",
    "        df_list.append(temp_df)\n",
    "    return pd.concat(df_list, ignore_index=True)\n",
    "\n",
    "# Load datasets for all years\n",
    "df_2019 = load_school_data(file_2019)\n",
    "df_2020 = load_school_data(file_2020)\n",
    "df_2021 = load_school_data(file_2021)\n",
    "\n",
    "# List of subjects for each stream\n",
    "subjects = ['Hindi', 'English', 'Mathematics', 'Physics', 'Chemistry', 'Biology', 'History', 'Geography', 'Civics', 'Computer Science', 'Physical Education']\n",
    "\n",
    "# Function to categorize marks\n",
    "def categorize_marks(marks):\n",
    "    if marks <= 20:\n",
    "        return \"Very Poor\"\n",
    "    elif marks <= 40:\n",
    "        return \"Poor\"\n",
    "    elif marks <= 60:\n",
    "        return \"Average\"\n",
    "    elif marks <= 80:\n",
    "        return \"Good\"\n",
    "    else:\n",
    "        return \"Very Good\"\n",
    "\n",
    "# Function to find best school per year\n",
    "def best_school(df):\n",
    "    df[\"Average_Marks\"] = df[subjects].mean(axis=1)\n",
    "    df[\"Category\"] = df[\"Average_Marks\"].apply(categorize_marks)\n",
    "    category_counts = df.groupby([\"School\", \"Category\"]).size().unstack(fill_value=0)\n",
    "    category_counts[\"Good_And_Very_Good\"] = category_counts.get(\"Good\", 0) + category_counts.get(\"Very Good\", 0)\n",
    "    best_school = category_counts[\"Good_And_Very_Good\"].idxmax()\n",
    "    return best_school\n",
    "\n",
    "# Identify best school for each year\n",
    "best_school_2019 = best_school(df_2019)\n",
    "best_school_2020 = best_school(df_2020)\n",
    "best_school_2021 = best_school(df_2021)\n",
    "\n",
    "# Print results\n",
    "print(\"Best Schools Per Year:\")\n",
    "print(f\"2019: {best_school_2019}\")\n",
    "print(f\"2020: {best_school_2020}\")\n",
    "print(f\"2021: {best_school_2021}\")\n"
   ]
  },
  {
   "cell_type": "markdown",
   "id": "25349475",
   "metadata": {
    "slideshow": {
     "slide_type": "slide"
    }
   },
   "source": [
    "#### 7. Which is the fastest-growing School in Bangalore (Overall and Streamwise)?"
   ]
  },
  {
   "cell_type": "code",
   "execution_count": 28,
   "id": "5b87abe8",
   "metadata": {
    "slideshow": {
     "slide_type": "slide"
    }
   },
   "outputs": [
    {
     "name": "stdout",
     "output_type": "stream",
     "text": [
      "Best Schools Per Year:\n",
      "2019: Birla HS\n",
      "2020: Birla HS\n",
      "2021: Vidya Mandir\n",
      "\n",
      "Fastest Growing Schools:\n",
      "Overall: Vidya Mandir\n",
      "Arts: Vidya Mandir\n",
      "Science: International\n",
      "Commerce: Vidya Mandir\n"
     ]
    }
   ],
   "source": [
    "import pandas as pd\n",
    "\n",
    "# File paths for 2019, 2020, and 2021 data\n",
    "file_2019 = \"Bangalore Schools 2019.xlsx\"\n",
    "file_2020 = \"Bangalore Schools 2020.xlsx\"\n",
    "file_2021 = \"Bangalore Schools 2021.xlsx\"\n",
    "\n",
    "# Function to load data from all sheets and add school column\n",
    "def load_school_data(file_path):\n",
    "    xls = pd.ExcelFile(file_path)\n",
    "    sheet_names = xls.sheet_names  # List of school names\n",
    "    df_list = []\n",
    "    for sheet in sheet_names:\n",
    "        temp_df = pd.read_excel(xls, sheet_name=sheet)\n",
    "        temp_df[\"School\"] = sheet  # Assign school name from sheet name\n",
    "        df_list.append(temp_df)\n",
    "    return pd.concat(df_list, ignore_index=True)\n",
    "\n",
    "# Load datasets for all years\n",
    "df_2019 = load_school_data(file_2019)\n",
    "df_2020 = load_school_data(file_2020)\n",
    "df_2021 = load_school_data(file_2021)\n",
    "\n",
    "# List of subjects for each stream\n",
    "subjects = ['Hindi', 'English', 'Mathematics', 'Physics', 'Chemistry', 'Biology', 'History', 'Geography', 'Civics', 'Computer Science', 'Physical Education']\n",
    "\n",
    "# Function to categorize marks\n",
    "def categorize_marks(marks):\n",
    "    if marks <= 20:\n",
    "        return \"Very Poor\"\n",
    "    elif marks <= 40:\n",
    "        return \"Poor\"\n",
    "    elif marks <= 60:\n",
    "        return \"Average\"\n",
    "    elif marks <= 80:\n",
    "        return \"Good\"\n",
    "    else:\n",
    "        return \"Very Good\"\n",
    "\n",
    "# Function to find best school per year\n",
    "def best_school(df):\n",
    "    df[\"Average_Marks\"] = df[subjects].mean(axis=1)\n",
    "    df[\"Category\"] = df[\"Average_Marks\"].apply(categorize_marks)\n",
    "    category_counts = df.groupby([\"School\", \"Category\"]).size().unstack(fill_value=0)\n",
    "    category_counts[\"Good_And_Very_Good\"] = category_counts.get(\"Good\", 0) + category_counts.get(\"Very Good\", 0)\n",
    "    best_school = category_counts[\"Good_And_Very_Good\"].idxmax()\n",
    "    return best_school\n",
    "\n",
    "# Identify best school for each year\n",
    "best_school_2019 = best_school(df_2019)\n",
    "best_school_2020 = best_school(df_2020)\n",
    "best_school_2021 = best_school(df_2021)\n",
    "\n",
    "# Calculate average marks per school for each year\n",
    "school_avg_2019 = df_2019.groupby(\"School\")[subjects].mean().mean(axis=1)\n",
    "school_avg_2020 = df_2020.groupby(\"School\")[subjects].mean().mean(axis=1)\n",
    "school_avg_2021 = df_2021.groupby(\"School\")[subjects].mean().mean(axis=1)\n",
    "\n",
    "# Compute growth rate for each school\n",
    "growth_rate = ((school_avg_2021 - school_avg_2019) / school_avg_2019) * 100\n",
    "fastest_growing_school = growth_rate.idxmax()\n",
    "\n",
    "# Identify best school streamwise\n",
    "arts_subjects = ['Hindi', 'English', 'History', 'Geography', 'Civics']\n",
    "science_subjects = ['Mathematics', 'Physics', 'Chemistry', 'Biology', 'Computer Science']\n",
    "commerce_subjects = ['Hindi', 'English', 'Mathematics', 'Computer Science', 'Physical Education']\n",
    "\n",
    "arts_growth = ((df_2021.groupby(\"School\")[arts_subjects].mean().mean(axis=1) - df_2019.groupby(\"School\")[arts_subjects].mean().mean(axis=1)) / df_2019.groupby(\"School\")[arts_subjects].mean().mean(axis=1)) * 100\n",
    "science_growth = ((df_2021.groupby(\"School\")[science_subjects].mean().mean(axis=1) - df_2019.groupby(\"School\")[science_subjects].mean().mean(axis=1)) / df_2019.groupby(\"School\")[science_subjects].mean().mean(axis=1)) * 100\n",
    "commerce_growth = ((df_2021.groupby(\"School\")[commerce_subjects].mean().mean(axis=1) - df_2019.groupby(\"School\")[commerce_subjects].mean().mean(axis=1)) / df_2019.groupby(\"School\")[commerce_subjects].mean().mean(axis=1)) * 100\n",
    "\n",
    "fastest_growing_arts = arts_growth.idxmax()\n",
    "fastest_growing_science = science_growth.idxmax()\n",
    "fastest_growing_commerce = commerce_growth.idxmax()\n",
    "\n",
    "# Print results\n",
    "print(\"Best Schools Per Year:\")\n",
    "print(f\"2019: {best_school_2019}\")\n",
    "print(f\"2020: {best_school_2020}\")\n",
    "print(f\"2021: {best_school_2021}\")\n",
    "print(\"\\nFastest Growing Schools:\")\n",
    "print(f\"Overall: {fastest_growing_school}\")\n",
    "print(f\"Arts: {fastest_growing_arts}\")\n",
    "print(f\"Science: {fastest_growing_science}\")\n",
    "print(f\"Commerce: {fastest_growing_commerce}\")\n"
   ]
  },
  {
   "cell_type": "code",
   "execution_count": null,
   "id": "8d77e82f",
   "metadata": {},
   "outputs": [],
   "source": []
  }
 ],
 "metadata": {
  "celltoolbar": "Slideshow",
  "kernelspec": {
   "display_name": "Python 3",
   "language": "python",
   "name": "python3"
  },
  "language_info": {
   "codemirror_mode": {
    "name": "ipython",
    "version": 3
   },
   "file_extension": ".py",
   "mimetype": "text/x-python",
   "name": "python",
   "nbconvert_exporter": "python",
   "pygments_lexer": "ipython3",
   "version": "3.8.8"
  }
 },
 "nbformat": 4,
 "nbformat_minor": 5
}
